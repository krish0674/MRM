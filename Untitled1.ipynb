{
 "cells": [
  {
   "cell_type": "code",
   "execution_count": 9,
   "id": "22c4b940",
   "metadata": {},
   "outputs": [
    {
     "name": "stdout",
     "output_type": "stream",
     "text": [
      "[nan nan nan nan nan nan nan nan nan nan nan nan nan nan nan nan nan nan\n",
      " nan nan nan nan nan nan nan nan nan nan nan nan nan nan nan nan nan nan\n",
      " nan nan nan nan nan nan nan nan nan nan nan nan nan nan nan nan nan nan\n",
      " nan]\n"
     ]
    }
   ],
   "source": [
    "import pandas as pd\n",
    "import numpy as np\n",
    "from LinearRegression import LinearRegression\n",
    "\n",
    "df=pd.read_csv(r\"C:\\Users\\KRISH DIDWANIA\\Documents\\CarPrice_Assignment.csv\")\n",
    "y=df[\"price\"]\n",
    "x=df[[\"symboling\",\"wheelbase\",\"enginesize\",\"boreratio\",\"stroke\",\"compressionratio\",\"horsepower\",\"peakrpm\",\"citympg\",\"highwaympg\"]]\n",
    "x_train=x[:150]\n",
    "x_test=x[150:]\n",
    "y_train=y[:150]\n",
    "y_test=y[150:]\n",
    "    \n",
    "    \n",
    "class LinearRegression:\n",
    "    \n",
    "    def __init__(self,learning_rate=0.01,iterations=1000):\n",
    "        self.learning_rate=learning_rate\n",
    "        self.iterations=iterations\n",
    "        self.weights=0\n",
    "        self.bias=0\n",
    "     \n",
    "    def mse (y,y_hat):\n",
    "        error=0\n",
    "        for i in range(len(y)):\n",
    "            error+=(y[i]-y_hat[i])**2\n",
    "        error=error/len(y)\n",
    "        return error\n",
    "    \n",
    "    def fit(self,x,y):\n",
    "        self.weight=np.zeros(x.shape[1])\n",
    "        self.bias=0\n",
    "        for i in range(self.iterations):\n",
    "            y_hat=np.dot(x,self.weight)+self.bias\n",
    "            partial_w=(1/x.shape[0])*(2*np.dot(X.T,(y_hat-y)))\n",
    "            partial_b=(1/x.shape[0])*(2*np.sum(y_hat-y))\n",
    "            self.weight-=self.learning_rate*partial_w\n",
    "            self.bias-=self.learning_rate*partial_b\n",
    "            print(self.bias)\n",
    "    \n",
    "    def predict(self,x):\n",
    "        return (np.dot(self.weight,x)+self.bias)\n",
    "    \n",
    "    \n",
    "    model= LinearRegression()\n",
    "    model.fit(x_train,y_train)\n",
    "    preds=model.predict(x_test)\n",
    "    print(preds)\n",
    "   "
   ]
  },
  {
   "cell_type": "code",
   "execution_count": null,
   "id": "e528682d",
   "metadata": {},
   "outputs": [],
   "source": []
  }
 ],
 "metadata": {
  "kernelspec": {
   "display_name": "Python 3 (ipykernel)",
   "language": "python",
   "name": "python3"
  },
  "language_info": {
   "codemirror_mode": {
    "name": "ipython",
    "version": 3
   },
   "file_extension": ".py",
   "mimetype": "text/x-python",
   "name": "python",
   "nbconvert_exporter": "python",
   "pygments_lexer": "ipython3",
   "version": "3.11.1"
  }
 },
 "nbformat": 4,
 "nbformat_minor": 5
}
