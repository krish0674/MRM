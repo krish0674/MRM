{
 "cells": [
  {
   "cell_type": "code",
   "execution_count": 58,
   "id": "95b6b36a",
   "metadata": {},
   "outputs": [],
   "source": [
    "import os # processing file path\n",
    "import numpy as np \n",
    "import pandas as pd \n",
    "import matplotlib.pyplot as plt \n",
    "\n",
    "data1=pd.read_csv(r\"C:\\Users\\KRISH DIDWANIA\\Documents\\fashion-mnist_train.csv\")\n",
    "data2=pd.read_csv(r\"C:\\Users\\KRISH DIDWANIA\\Documents\\fashion-mnist_test.csv\")\n",
    "\n"
   ]
  },
  {
   "cell_type": "code",
   "execution_count": 59,
   "id": "2108e3bd",
   "metadata": {},
   "outputs": [],
   "source": [
    "y_test=data2[\"label\"]\n",
    "y_train=data1[\"label\"]\n",
    "x_test=data2.drop([\"label\"],axis=1)\n",
    "x_train=data1.drop([\"label\"],axis=1)\n",
    "\n",
    "y_test=np.array(y_test)\n",
    "y_train=np.array(y_train)\n",
    "x_test=np.array(x_test)\n",
    "x_train=np.array(x_train)"
   ]
  },
  {
   "cell_type": "code",
   "execution_count": 60,
   "id": "4e2a87e3",
   "metadata": {},
   "outputs": [],
   "source": [
    "m,n=x_train.shape"
   ]
  },
  {
   "cell_type": "code",
   "execution_count": 61,
   "id": "c812be35",
   "metadata": {},
   "outputs": [
    {
     "ename": "AttributeError",
     "evalue": "'numpy.ndarray' object has no attribute 'getdummies'",
     "output_type": "error",
     "traceback": [
      "\u001b[1;31m---------------------------------------------------------------------------\u001b[0m",
      "\u001b[1;31mAttributeError\u001b[0m                            Traceback (most recent call last)",
      "Cell \u001b[1;32mIn[61], line 2\u001b[0m\n\u001b[0;32m      1\u001b[0m y_train\u001b[38;5;241m.\u001b[39mshape\n\u001b[1;32m----> 2\u001b[0m \u001b[43my_train\u001b[49m\u001b[38;5;241;43m.\u001b[39;49m\u001b[43mgetdummies\u001b[49m()\n",
      "\u001b[1;31mAttributeError\u001b[0m: 'numpy.ndarray' object has no attribute 'getdummies'"
     ]
    }
   ],
   "source": [
    "y_train.shape"
   ]
  },
  {
   "cell_type": "code",
   "execution_count": null,
   "id": "00753283",
   "metadata": {},
   "outputs": [],
   "source": [
    "# random check with nine training examples\n",
    "np.random.seed(0);\n",
    "indices = list(np.random.randint(m,size=9))\n",
    "for i in range(9):\n",
    "    plt.subplot(3,3,i+1)\n",
    "    plt.imshow(x_train[indices[i]].reshape(28,28), cmap='gray', interpolation='none')\n",
    "    plt.title(\"Index {} Class {}\".format(indices[i], y_train[indices[i]]))\n",
    "    plt.tight_layout()\n"
   ]
  },
  {
   "cell_type": "code",
   "execution_count": null,
   "id": "b8cf292c",
   "metadata": {},
   "outputs": [],
   "source": [
    "print(\"Feature Values: \\nFrom \" + str(np.min(x_train)) + \" to \" + str(np.max(x_train)))\n",
    "print(\"Data type: \" + str(x_train.dtype))\n",
    "print(\"\\nLabel Values: \")\n",
    "print(set(list(y_train)))\n",
    "print(\"Data type: \" + str(y_train.dtype))"
   ]
  },
  {
   "cell_type": "code",
   "execution_count": null,
   "id": "bff3efe7",
   "metadata": {},
   "outputs": [],
   "source": [
    "def f(z):\n",
    "    return 1 / (1 + np.exp(-z))\n",
    "\n",
    "n_hidden_node = 10\n",
    "n_output_node = 9\n",
    "learning_rate = 0.05\n",
    "# initilize with random numbers for weight and bias matrix\n",
    "\n",
    "w1 = np.random.randn(784, n_hidden_node)\n",
    "b1 = np.zeros((1, n_hidden_node))\n",
    "w2 = np.random.randn(n_hidden_node, n_output_node)\n",
    "b2 = np.zeros((1, n_output_node))\n",
    "\n",
    "for i in range(5000):\n",
    "    \n",
    "    # forward feed\n",
    "    z1 = np.dot(x_train, w1) + b1\n",
    "    h1 = f(z1)\n",
    "    z2 = np.dot(h1, w2) + b2\n",
    "    h2 = f(z2)\n",
    "    \n",
    "    j=(h2-y_train)**2\n",
    "\n",
    "    # backward propagation\n",
    "    delta2 = (h2-y_train)*h2*(1-h2)\n",
    "    delta1 = np.dot(delta2, w2.T) * h1*(1 - h1)\n",
    "    dw2 = np.dot(h1.T, delta2)\n",
    "    db2 = np.sum(delta2, axis=0).reshape(np.shape(b2))\n",
    "    dw1 = np.dot(x.T, delta1)\n",
    "    db1 = np.sum(delta1, axis=0).reshape(np.shape(b1))\n",
    "\n",
    "    # adjust weights by gradient descent\n",
    "    w1 = w1 - learning_rate*dw1\n",
    "    b1 = b1 - learning_rate*db1\n",
    "    w2 = w2 - learning_rate*dw2\n",
    "    b2 = b2 - learning_rate*db2\n",
    "        \n",
    "    plt.plot(j,i,color='b',marker='o',s=30)\n",
    "    plt.show()    "
   ]
  },
  {
   "cell_type": "code",
   "execution_count": null,
   "id": "b03fed9f",
   "metadata": {},
   "outputs": [],
   "source": [
    "def nn_predict(model, x_test):\n",
    "    w1, b1, w2, b2 = model['w1'], model['b1'], model['w2'], model['b2']\n",
    "    z1 = np.dot(x, w1) + b1\n",
    "    h1 = f(z1)\n",
    "    z2 = np.dot(h1, w2) + b2\n",
    "    h2 = f(z2)\n",
    "    return np.round(h2)\n",
    "\n",
    "nn_predit(x_test)"
   ]
  },
  {
   "cell_type": "code",
   "execution_count": null,
   "id": "94a59dea",
   "metadata": {},
   "outputs": [],
   "source": [
    "def mse(y,y_hat):\n",
    "       return np.mean((y-y_hat)**2)\n",
    "    \n",
    "error=mse(nn_predict(x_test),y_test)    "
   ]
  },
  {
   "cell_type": "code",
   "execution_count": null,
   "id": "565ff056",
   "metadata": {},
   "outputs": [],
   "source": []
  }
 ],
 "metadata": {
  "kernelspec": {
   "display_name": "Python 3 (ipykernel)",
   "language": "python",
   "name": "python3"
  },
  "language_info": {
   "codemirror_mode": {
    "name": "ipython",
    "version": 3
   },
   "file_extension": ".py",
   "mimetype": "text/x-python",
   "name": "python",
   "nbconvert_exporter": "python",
   "pygments_lexer": "ipython3",
   "version": "3.11.1"
  }
 },
 "nbformat": 4,
 "nbformat_minor": 5
}
