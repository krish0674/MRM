{
 "cells": [
  {
   "cell_type": "code",
   "execution_count": null,
   "id": "9a1049e1",
   "metadata": {},
   "outputs": [],
   "source": [
    "import cv2\n",
    "import numpy as np\n",
    "\n",
    "cap = cv2.VideoCapture(0)\n",
    "#set size of video feed window\n",
    "cap.set(3,1280)\n",
    "cap.set(4,720)\n",
    "\n",
    "def nothing(x):\n",
    "\tpass\n",
    "\n",
    "#create trackbar window\n",
    "cv2.namedWindow('Trackbars')\n",
    "cv2.createTrackbar(\"L - H\", \"Trackbars\", 0, 179, nothing)\n",
    "cv2.createTrackbar(\"L - S\", \"Trackbars\", 0, 255, nothing)\n",
    "cv2.createTrackbar(\"L - V\", \"Trackbars\", 0, 255, nothing)\n",
    "cv2.createTrackbar(\"U - H\", \"Trackbars\", 179, 179, nothing)\n",
    "cv2.createTrackbar(\"U - S\", \"Trackbars\", 255, 255, nothing)\n",
    "cv2.createTrackbar(\"U - V\", \"Trackbars\", 255, 255, nothing)\n",
    "\n",
    "while True:\n",
    "\n",
    "\tret, frame = cap.read()\n",
    "\tif not ret:\n",
    "\t\tbreak\n",
    "\tframe = cv2.flip(frame, 1)\n",
    "\thsv = cv2.cvtColor(frame, cv2.COLOR_BGR2HSV)\n",
    "\n",
    "\tl_h = cv2.getTrackbarPos(\"L - H\", \"Trackbars\")\n",
    "\tl_s = cv2.getTrackbarPos(\"L - S\", \"Trackbars\")\n",
    "\tl_v = cv2.getTrackbarPos(\"L - V\", \"Trackbars\")\n",
    "\tu_h = cv2.getTrackbarPos(\"U - H\", \"Trackbars\")\n",
    "\tu_s = cv2.getTrackbarPos(\"U - S\", \"Trackbars\")\n",
    "\tu_v = cv2.getTrackbarPos(\"U - V\", \"Trackbars\")\n",
    "\tlower_range = np.array([l_h, l_s, l_v])\n",
    "\tupper_range = np.array([u_h, u_s, u_v])\n",
    "\t\n",
    "\tmask = cv2.inRange(hsv, lower_range, upper_range)\n",
    "\tres = cv2.bitwise_and(frame, frame, mask = mask)\n",
    "\n",
    "\tmask_3 = cv2.cvtColor(mask, cv2.COLOR_GRAY2BGR)\n",
    "\n",
    "\tstacked = np.hstack((mask_3, frame, res))\n",
    "\tcv2.imshow('Trackbars',cv2.resize(stacked,None,fx=0.4,fy=0.4))\n",
    "\tkey = cv2.waitKey(1)\n",
    "\tif key == 13:\n",
    "\t\tbreak\n",
    "\n",
    "\tif key == ord('s'):\n",
    "\t\tthearray = [[l_h,l_s,l_v],[u_h, u_s, u_v]]\n",
    "\t\tprint(thearray)\n",
    "\t\tnp.save('hsv_value',thearray)\n",
    "\t\tbreak\n",
    "      \n",
    "cap.release()\n",
    "cv2.destroyAllWindows()"
   ]
  },
  {
   "cell_type": "code",
   "execution_count": null,
   "id": "acafa96d",
   "metadata": {},
   "outputs": [],
   "source": []
  },
  {
   "cell_type": "code",
   "execution_count": null,
   "id": "f58d8547",
   "metadata": {},
   "outputs": [],
   "source": []
  },
  {
   "cell_type": "code",
   "execution_count": null,
   "id": "ef522972",
   "metadata": {},
   "outputs": [],
   "source": []
  }
 ],
 "metadata": {
  "kernelspec": {
   "display_name": "Python 3 (ipykernel)",
   "language": "python",
   "name": "python3"
  },
  "language_info": {
   "codemirror_mode": {
    "name": "ipython",
    "version": 3
   },
   "file_extension": ".py",
   "mimetype": "text/x-python",
   "name": "python",
   "nbconvert_exporter": "python",
   "pygments_lexer": "ipython3",
   "version": "3.11.4"
  }
 },
 "nbformat": 4,
 "nbformat_minor": 5
}
