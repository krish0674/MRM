{
 "cells": [
  {
   "cell_type": "code",
   "execution_count": 118,
   "id": "00657d81",
   "metadata": {},
   "outputs": [],
   "source": [
    "import copy\n",
    "import numpy as np \n",
    "import pandas as pd \n",
    "import matplotlib.pyplot as plt\n",
    "import torch,torchvision\n",
    "from torch import nn,save,load       #neural network module\n",
    "from torch.optim import Adam      #optimizer used\n",
    "from torch.utils.data import DataLoader     #load a dataset\n",
    "from torchvision import datasets         \n",
    "from torchvision.transforms import ToTensor       #to convert to tensor\n",
    "from sklearn import metrics\n"
   ]
  },
  {
   "cell_type": "code",
   "execution_count": 119,
   "id": "289409a4",
   "metadata": {},
   "outputs": [
    {
     "name": "stdout",
     "output_type": "stream",
     "text": [
      "10000\n"
     ]
    }
   ],
   "source": [
    "T=torchvision.transforms.Compose([torchvision.transforms.ToTensor()])\n",
    "\n",
    "train_data=torchvision.datasets.MNIST('mnist_data',train=True,download=True,transform=T)  #transforming to tensor\n",
    "val_data=torchvision.datasets.MNIST('mnist_data',train=False,download=True,transform=T)\n",
    "print(len(val_data))\n",
    "test_set,val_set=torch.utils.data.random_split(val_data,[5000,5000])\n",
    "\n",
    "train_dl=torch.utils.data.DataLoader(train_data,64)     #batch size =64\n",
    "val_dl=torch.utils.data.DataLoader(val_set,64)     \n",
    "test_dl=torch.utils.data.DataLoader(test_set,64)     "
   ]
  },
  {
   "cell_type": "code",
   "execution_count": 120,
   "id": "41db8a26",
   "metadata": {},
   "outputs": [
    {
     "data": {
      "text/plain": [
       "<matplotlib.image.AxesImage at 0x2861ac88850>"
      ]
     },
     "execution_count": 120,
     "metadata": {},
     "output_type": "execute_result"
    },
    {
     "data": {
      "image/png": "[encoded data removed]",
      "text/plain": [
       "<Figure size 640x480 with 1 Axes>"
      ]
     },
     "metadata": {},
     "output_type": "display_data"
    }
   ],
   "source": [
    "plt.imshow(train_data[0][0][0],cmap=\"gray\")"
   ]
  },
  {
   "cell_type": "code",
   "execution_count": 121,
   "id": "9bd7686b",
   "metadata": {},
   "outputs": [],
   "source": [
    "def MNIST():\n",
    "    model=nn.Sequential(\n",
    "        nn.Conv2d(1,6,5,padding=2),     #input,output,filter dimensions the padding and stride\n",
    "        nn.ReLU(),\n",
    "        nn.AvgPool2d(2,stride=2),\n",
    "        \n",
    "        nn.Conv2d(6,16,5,padding=0),\n",
    "        nn.ReLU(),\n",
    "        nn.AvgPool2d(2,stride=2),\n",
    "        \n",
    "        nn.Flatten(),\n",
    "        nn.Linear(400,120),           #16*5*5\n",
    "        nn.Linear(120,84),\n",
    "        nn.Linear(84,10)   #total no.of digits=10\n",
    "        )\n",
    "    \n",
    "    return model"
   ]
  },
  {
   "cell_type": "code",
   "execution_count": 122,
   "id": "a4bb3b60",
   "metadata": {},
   "outputs": [],
   "source": [
    "\n",
    "#accuracy of the model\n",
    "\n",
    "def validate(model,data):\n",
    "    total=0\n",
    "    correct=0\n",
    "    for i,(images,labels) in enumerate(data):\n",
    "        x=model(images)\n",
    "        value,pred=torch.max(x,1)\n",
    "        total=total+x.size(0)\n",
    "        correct=correct+torch.sum(pred==labels)\n",
    "    return correct/total *100    \n",
    "            \n",
    "  "
   ]
  },
  {
   "cell_type": "code",
   "execution_count": 123,
   "id": "b9682509",
   "metadata": {
    "scrolled": true
   },
   "outputs": [],
   "source": [
    "def train(epochs):\n",
    "    \n",
    "    accuracies=[]\n",
    "    max=0\n",
    "    cnn=MNIST().to('cpu')\n",
    "    loss=nn.CrossEntropyLoss()\n",
    "    opt=Adam(cnn.parameters(),lr=0.001)\n",
    "    \n",
    "    for epoch in range(epochs):\n",
    "        for i,(images,labels) in enumerate(train_dl):\n",
    "            images=images.to('cpu')\n",
    "            labels=labels.to('cpu')\n",
    "            \n",
    "            opt.zero_grad()        #initialising to zero\n",
    "            pred=cnn(images)\n",
    "            l=loss(pred,labels)\n",
    "            l.backward()        #backpropagation\n",
    "            opt.step()             #gradient descent\n",
    "        accuracy=float(validate(cnn,val_dl))  \n",
    "        accuracies.append(accuracy)\n",
    "        if(accuracy>max):\n",
    "            best_model=copy.deepcopy(cnn)\n",
    "            max=accuracy\n",
    "            print(\"Till now best accuracy: \",accuracy)\n",
    "        plt.plot(accuracies)    \n",
    "        print(\"Epoch:\",epoch+1, \"Accuracy: \",accuracy)\n",
    "        \n",
    "    return best_model   "
   ]
  },
  {
   "cell_type": "code",
   "execution_count": 124,
   "id": "b7ee1c45",
   "metadata": {},
   "outputs": [
    {
     "name": "stdout",
     "output_type": "stream",
     "text": [
      "Till now best accuracy:  95.27999877929688\n",
      "Epoch: 1 Accuracy:  95.27999877929688\n",
      "Till now best accuracy:  97.47999572753906\n",
      "Epoch: 2 Accuracy:  97.47999572753906\n",
      "Till now best accuracy:  98.19999694824219\n",
      "Epoch: 3 Accuracy:  98.19999694824219\n",
      "Till now best accuracy:  98.5199966430664\n",
      "Epoch: 4 Accuracy:  98.5199966430664\n",
      "Till now best accuracy:  98.77999877929688\n",
      "Epoch: 5 Accuracy:  98.77999877929688\n"
     ]
    },
    {
     "data": {
      "image/png": "[encoded data removed]",
      "text/plain": [
       "<Figure size 640x480 with 1 Axes>"
      ]
     },
     "metadata": {},
     "output_type": "display_data"
    }
   ],
   "source": [
    "M=train(5)\n"
   ]
  },
  {
   "cell_type": "code",
   "execution_count": 125,
   "id": "16f045de",
   "metadata": {},
   "outputs": [],
   "source": [
    "#predicting the testing set\n",
    "def predict(model,data):\n",
    "    y_pred=[]\n",
    "    y_true=[]\n",
    "    for i,(images,labels) in enumerate(data):\n",
    "        x=model(images)\n",
    "        value,pred=torch.max(x,1)\n",
    "        y_pred.extend(list(pred.numpy()))\n",
    "        y_true.extend(list(labels.numpy()))\n",
    "    return np.array(y_pred),np.array(y_true)    "
   ]
  },
  {
   "cell_type": "code",
   "execution_count": 126,
   "id": "aa0911b1",
   "metadata": {},
   "outputs": [],
   "source": [
    "\n",
    "y_pred,y_true=predict(M,test_dl)"
   ]
  },
  {
   "cell_type": "code",
   "execution_count": 127,
   "id": "1ed13f9b",
   "metadata": {},
   "outputs": [
    {
     "data": {
      "text/plain": [
       "array([[472,   0,   0,   0,   0,   0,   1,   0,   4,   0],\n",
       "       [  0, 566,   1,   1,   0,   0,   0,   0,   2,   0],\n",
       "       [  0,   1, 541,   0,   0,   0,   0,   3,   1,   0],\n",
       "       [  1,   0,   2, 465,   0,   1,   0,   0,   1,   0],\n",
       "       [  1,   0,   0,   0, 501,   0,   1,   0,   0,   4],\n",
       "       [  1,   0,   0,   7,   0, 436,   0,   2,   0,   1],\n",
       "       [  0,   1,   0,   0,   1,   5, 458,   0,   2,   0],\n",
       "       [  0,   2,   2,   1,   0,   0,   0, 502,   0,   4],\n",
       "       [  1,   0,   1,   0,   0,   1,   0,   2, 482,   0],\n",
       "       [  0,   2,   0,   1,   2,   0,   0,   2,   1, 510]], dtype=int64)"
      ]
     },
     "execution_count": 127,
     "metadata": {},
     "output_type": "execute_result"
    }
   ],
   "source": [
    "#confusion matrix\n",
    "\n",
    "x=metrics.confusion_matrix(y_true,y_pred,labels=np.arange(0,10))\n",
    "x"
   ]
  },
  {
   "cell_type": "code",
   "execution_count": 128,
   "id": "b357eb8a",
   "metadata": {},
   "outputs": [],
   "source": [
    "#saving parameters\n",
    "\n",
    "with open('model_state.pt','wb') as f:\n",
    "    save(cnn.state_dict(),f)"
   ]
  }
 ],
 "metadata": {
  "kernelspec": {
   "display_name": "Python 3 (ipykernel)",
   "language": "python",
   "name": "python3"
  },
  "language_info": {
   "codemirror_mode": {
    "name": "ipython",
    "version": 3
   },
   "file_extension": ".py",
   "mimetype": "text/x-python",
   "name": "python",
   "nbconvert_exporter": "python",
   "pygments_lexer": "ipython3",
   "version": "3.11.1"
  }
 },
 "nbformat": 4,
 "nbformat_minor": 5
}
